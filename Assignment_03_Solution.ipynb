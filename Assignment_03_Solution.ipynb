{
 "cells": [
  {
   "cell_type": "markdown",
   "metadata": {
    "id": "TSfQb_3w9CP3",
    "tags": []
   },
   "source": [
    "# Assignment 3: Programming II\n",
    "\n",
    "Please read the tasks description carefully and implement **only** what the tasks wants you to implement. Follow the instructions from the task description. There might be tasks that require you to write things you would do differently **but** you have to stay with the description. The test cases below each input cell is the gold standard. For this assignment, you do not need any error handling, you can assume that all input to your function will be valid.\n",
    "\n",
    "In this or any other assignment, using `print` is encouraged to test your implementation but is is **never** required to use it. If your function has to **return** something, use the `return` statement. A `print` is **not** a `return`.\n",
    "\n",
    "Try to implement the tasks yourself or in a small team. If you blindly copy a solution from the internet or other students, you will not learn anything from it. Understand the solution! This takes practice.\n",
    "\n",
    "_Hint: If the test case succeeds, delete your solution and redo it the next day._\n",
    "\n",
    "Do not modify the _test cells_, by doing so you cheat your solution which is not helpful for your learning process.\n",
    "\n",
    "<p style=\"background:rgba(250, 100, 100, 0.4)\">From this assignment on, they require you to <strong>self-study</strong> and do further research than the content from the lecture will give you.</p>\n",
    "\n",
    "Use your favorite search engine to look up documentation, usage examples, and definitions of the mentioned functions.\n",
    "\n",
    "> **We can only show you the door. You're the one that has to walk through it.**"
   ]
  },
  {
   "cell_type": "markdown",
   "metadata": {
    "id": "7Q0Qeuj69RbV"
   },
   "source": [
    "---\n",
    "## Task 1: Sum\n",
    "\n",
    "Define the function `sum_numbers` that takes **exactly two** integer arguments: `start` and `end`.\n",
    "\n",
    "It should return the **sum** of all integer numbers between `start` (inclusive!) and `end` (exclusive!)\n",
    "\n",
    "The two parameters are **optional** with the following *default values*: `start` must default to `1` and `end` must default to `10`\n",
    "\n",
    "Example:\n",
    "```python\n",
    "result = sum_numbers()\n",
    "print(result)\n",
    ">>> 45\n",
    "```\n",
    "\n",
    "Assume that your function receives only *valid* parameters: the values of the parameters are always positive integers and `start` will always be smaller than `end`.\n",
    "\n",
    "_Hint: You can use the `range()` function._\n",
    "\n",
    "_Hint: You can use the `sum()` function._\n",
    "\n",
    "_Hint: Remember to `return` the result. A `print` is **not** a `return`._"
   ]
  },
  {
   "cell_type": "code",
   "execution_count": 5,
   "metadata": {
    "executionInfo": {
     "elapsed": 343,
     "status": "ok",
     "timestamp": 1632322011360,
     "user": {
      "displayName": "Bernhard Bermeitinger",
      "photoUrl": "https://lh3.googleusercontent.com/a-/AOh14GivXxt0TLtU4UXyER4_cY1H5s03j1oHP80xcb4=s64",
      "userId": "00323182743818884824"
     },
     "user_tz": -120
    },
    "id": "b9kbIA0A9QLT"
   },
   "outputs": [
    {
     "name": "stdout",
     "output_type": "stream",
     "text": [
      "hello World\n",
      "I am Jose Mourinho\n",
      "strange M\n",
      "3+1\n"
     ]
    }
   ],
   "source": [
    "print (\"hello World\")\n",
    "print (\"I am Jose Mourinho\")\n",
    "print (\"strange M\")\n",
    "print (\"3+1\")\n",
    "print (\"this is a demo\")"
   ]
  },
  {
   "cell_type": "code",
   "execution_count": 1,
   "metadata": {},
   "outputs": [
    {
     "name": "stdout",
     "output_type": "stream",
     "text": [
      "Defaulting to user installation because normal site-packages is not writeable\n",
      "Collecting folium\n",
      "  Downloading folium-0.18.0-py2.py3-none-any.whl (108 kB)\n",
      "\u001b[K     |████████████████████████████████| 108 kB 8.5 kB/s eta 0:00:01\n",
      "\u001b[?25hCollecting streamlit-folium\n",
      "  Downloading streamlit_folium-0.23.1-py3-none-any.whl (327 kB)\n",
      "\u001b[K     |████████████████████████████████| 327 kB 15 kB/s eta 0:00:011\n",
      "\u001b[?25hCollecting numpy\n",
      "  Downloading numpy-2.0.2-cp39-cp39-macosx_14_0_x86_64.whl (6.9 MB)\n",
      "\u001b[K     |████████████████████████████████| 6.9 MB 462 kB/s eta 0:00:01     |███████████████████████▉        | 5.1 MB 359 kB/s eta 0:00:05\n",
      "\u001b[?25hCollecting xyzservices\n",
      "  Downloading xyzservices-2024.9.0-py3-none-any.whl (85 kB)\n",
      "\u001b[K     |████████████████████████████████| 85 kB 474 kB/s eta 0:00:01\n",
      "\u001b[?25hCollecting jinja2>=2.9\n",
      "  Downloading jinja2-3.1.4-py3-none-any.whl (133 kB)\n",
      "\u001b[K     |████████████████████████████████| 133 kB 313 kB/s eta 0:00:01\n",
      "\u001b[?25hCollecting branca>=0.6.0\n",
      "  Downloading branca-0.8.0-py3-none-any.whl (25 kB)\n",
      "Collecting requests\n",
      "  Downloading requests-2.32.3-py3-none-any.whl (64 kB)\n",
      "\u001b[K     |████████████████████████████████| 64 kB 603 kB/s eta 0:00:01\n",
      "\u001b[?25hCollecting streamlit>=1.13.0\n",
      "  Downloading streamlit-1.39.0-py2.py3-none-any.whl (8.7 MB)\n",
      "\u001b[K     |████████████████████████████████| 8.7 MB 650 kB/s eta 0:00:01     |█████████████████████           | 5.7 MB 363 kB/s eta 0:00:09     |█████████████████████▋          | 5.9 MB 136 kB/s eta 0:00:21     |███████████████████████▉        | 6.5 MB 725 kB/s eta 0:00:04\n",
      "\u001b[?25hCollecting MarkupSafe>=2.0\n",
      "  Downloading MarkupSafe-3.0.2-cp39-cp39-macosx_10_9_universal2.whl (14 kB)\n",
      "Collecting cachetools<6,>=4.0\n",
      "  Downloading cachetools-5.5.0-py3-none-any.whl (9.5 kB)\n",
      "Collecting pandas<3,>=1.4.0\n",
      "  Downloading pandas-2.2.3-cp39-cp39-macosx_10_9_x86_64.whl (12.6 MB)\n",
      "\u001b[K     |████████████████████████████████| 12.6 MB 304 kB/s eta 0:00:01\n",
      "\u001b[?25hCollecting rich<14,>=10.14.0\n",
      "  Downloading rich-13.9.3-py3-none-any.whl (242 kB)\n",
      "\u001b[K     |████████████████████████████████| 242 kB 314 kB/s eta 0:00:01\n",
      "\u001b[?25hRequirement already satisfied: tornado<7,>=6.0.3 in /Users/fynnhirrlinger/Library/Python/3.9/lib/python/site-packages (from streamlit>=1.13.0->streamlit-folium) (6.4.1)\n",
      "Collecting pillow<11,>=7.1.0\n",
      "  Downloading pillow-10.4.0-cp39-cp39-macosx_10_10_x86_64.whl (3.5 MB)\n",
      "\u001b[K     |████████████████████████████████| 3.5 MB 1.0 MB/s eta 0:00:01\n",
      "\u001b[?25hCollecting protobuf<6,>=3.20\n",
      "  Downloading protobuf-5.28.3-cp38-abi3-macosx_10_9_universal2.whl (414 kB)\n",
      "\u001b[K     |████████████████████████████████| 414 kB 317 kB/s eta 0:00:01\n",
      "\u001b[?25hCollecting gitpython!=3.1.19,<4,>=3.0.7\n",
      "  Downloading GitPython-3.1.43-py3-none-any.whl (207 kB)\n",
      "\u001b[K     |████████████████████████████████| 207 kB 634 kB/s eta 0:00:01\n",
      "\u001b[?25hCollecting altair<6,>=4.0\n",
      "  Downloading altair-5.4.1-py3-none-any.whl (658 kB)\n",
      "\u001b[K     |████████████████████████████████| 658 kB 367 kB/s eta 0:00:01\n",
      "\u001b[?25hCollecting click<9,>=7.0\n",
      "  Downloading click-8.1.7-py3-none-any.whl (97 kB)\n",
      "\u001b[K     |████████████████████████████████| 97 kB 422 kB/s eta 0:00:01\n",
      "\u001b[?25hRequirement already satisfied: packaging<25,>=20 in /Users/fynnhirrlinger/Library/Python/3.9/lib/python/site-packages (from streamlit>=1.13.0->streamlit-folium) (24.1)\n",
      "Requirement already satisfied: typing-extensions<5,>=4.3.0 in /Users/fynnhirrlinger/Library/Python/3.9/lib/python/site-packages (from streamlit>=1.13.0->streamlit-folium) (4.12.2)\n",
      "Collecting blinker<2,>=1.0.0\n",
      "  Downloading blinker-1.8.2-py3-none-any.whl (9.5 kB)\n",
      "Collecting pydeck<1,>=0.8.0b4\n",
      "  Downloading pydeck-0.9.1-py2.py3-none-any.whl (6.9 MB)\n",
      "\u001b[K     |████████████████████████████████| 6.9 MB 255 kB/s eta 0:00:01\n",
      "\u001b[?25hCollecting toml<2,>=0.10.1\n",
      "  Downloading toml-0.10.2-py2.py3-none-any.whl (16 kB)\n",
      "Collecting pyarrow>=7.0\n",
      "  Downloading pyarrow-18.0.0-cp39-cp39-macosx_12_0_x86_64.whl (30.8 MB)\n",
      "\u001b[K     |████████████████████████████████| 30.8 MB 359 kB/s eta 0:00:01     |████████████▌                   | 12.1 MB 160 kB/s eta 0:01:57     |███████████████████▎            | 18.6 MB 190 kB/s eta 0:01:05\n",
      "\u001b[?25hCollecting tenacity<10,>=8.1.0\n",
      "  Downloading tenacity-9.0.0-py3-none-any.whl (28 kB)\n",
      "Collecting narwhals>=1.5.2\n",
      "  Downloading narwhals-1.12.1-py3-none-any.whl (195 kB)\n",
      "\u001b[K     |████████████████████████████████| 195 kB 41 kB/s eta 0:00:01\n",
      "\u001b[?25hCollecting jsonschema>=3.0\n",
      "  Downloading jsonschema-4.23.0-py3-none-any.whl (88 kB)\n",
      "\u001b[K     |████████████████████████████████| 88 kB 17 kB/s eta 0:00:016\n",
      "\u001b[?25hCollecting gitdb<5,>=4.0.1\n",
      "  Downloading gitdb-4.0.11-py3-none-any.whl (62 kB)\n",
      "\u001b[K     |████████████████████████████████| 62 kB 52 kB/s eta 0:00:01\n",
      "\u001b[?25hCollecting smmap<6,>=3.0.1\n",
      "  Downloading smmap-5.0.1-py3-none-any.whl (24 kB)\n",
      "Collecting referencing>=0.28.4\n",
      "  Downloading referencing-0.35.1-py3-none-any.whl (26 kB)\n",
      "Collecting rpds-py>=0.7.1\n",
      "  Downloading rpds_py-0.20.0-cp39-cp39-macosx_10_12_x86_64.whl (319 kB)\n",
      "\u001b[K     |████████████████████████████████| 319 kB 81 kB/s eta 0:00:01\n",
      "\u001b[?25hCollecting attrs>=22.2.0\n",
      "  Downloading attrs-24.2.0-py3-none-any.whl (63 kB)\n",
      "\u001b[K     |████████████████████████████████| 63 kB 113 kB/s eta 0:00:01\n",
      "\u001b[?25hCollecting jsonschema-specifications>=2023.03.6\n",
      "  Downloading jsonschema_specifications-2024.10.1-py3-none-any.whl (18 kB)\n",
      "Requirement already satisfied: python-dateutil>=2.8.2 in /Users/fynnhirrlinger/Library/Python/3.9/lib/python/site-packages (from pandas<3,>=1.4.0->streamlit>=1.13.0->streamlit-folium) (2.9.0.post0)\n",
      "Collecting tzdata>=2022.7\n",
      "  Downloading tzdata-2024.2-py2.py3-none-any.whl (346 kB)\n",
      "\u001b[K     |████████████████████████████████| 346 kB 86 kB/s eta 0:00:012\n",
      "\u001b[?25hCollecting pytz>=2020.1\n",
      "  Downloading pytz-2024.2-py2.py3-none-any.whl (508 kB)\n",
      "\u001b[K     |████████████████████████████████| 508 kB 80 kB/s eta 0:00:011\n",
      "\u001b[?25hRequirement already satisfied: six>=1.5 in /Library/Developer/CommandLineTools/Library/Frameworks/Python3.framework/Versions/3.9/lib/python3.9/site-packages (from python-dateutil>=2.8.2->pandas<3,>=1.4.0->streamlit>=1.13.0->streamlit-folium) (1.15.0)\n",
      "Collecting idna<4,>=2.5\n",
      "  Downloading idna-3.10-py3-none-any.whl (70 kB)\n",
      "\u001b[K     |████████████████████████████████| 70 kB 213 kB/s eta 0:00:01\n",
      "\u001b[?25hCollecting charset-normalizer<4,>=2\n",
      "  Downloading charset_normalizer-3.4.0-cp39-cp39-macosx_10_9_x86_64.whl (125 kB)\n",
      "\u001b[K     |████████████████████████████████| 125 kB 37 kB/s eta 0:00:01\n",
      "\u001b[?25hCollecting urllib3<3,>=1.21.1\n",
      "  Downloading urllib3-2.2.3-py3-none-any.whl (126 kB)\n",
      "\u001b[K     |████████████████████████████████| 126 kB 173 kB/s eta 0:00:01\n",
      "\u001b[?25hCollecting certifi>=2017.4.17\n",
      "  Downloading certifi-2024.8.30-py3-none-any.whl (167 kB)\n",
      "\u001b[K     |████████████████████████████████| 167 kB 90 kB/s eta 0:00:01\n",
      "\u001b[?25hRequirement already satisfied: pygments<3.0.0,>=2.13.0 in /Users/fynnhirrlinger/Library/Python/3.9/lib/python/site-packages (from rich<14,>=10.14.0->streamlit>=1.13.0->streamlit-folium) (2.18.0)\n",
      "Collecting markdown-it-py>=2.2.0\n",
      "  Downloading markdown_it_py-3.0.0-py3-none-any.whl (87 kB)\n",
      "\u001b[K     |████████████████████████████████| 87 kB 284 kB/s eta 0:00:01\n",
      "\u001b[?25hCollecting mdurl~=0.1\n",
      "  Downloading mdurl-0.1.2-py3-none-any.whl (10.0 kB)\n",
      "Installing collected packages: rpds-py, attrs, referencing, smmap, mdurl, MarkupSafe, jsonschema-specifications, urllib3, tzdata, pytz, numpy, narwhals, markdown-it-py, jsonschema, jinja2, idna, gitdb, charset-normalizer, certifi, xyzservices, toml, tenacity, rich, requests, pydeck, pyarrow, protobuf, pillow, pandas, gitpython, click, cachetools, branca, blinker, altair, streamlit, folium, streamlit-folium\n",
      "Successfully installed MarkupSafe-3.0.2 altair-5.4.1 attrs-24.2.0 blinker-1.8.2 branca-0.8.0 cachetools-5.5.0 certifi-2024.8.30 charset-normalizer-3.4.0 click-8.1.7 folium-0.18.0 gitdb-4.0.11 gitpython-3.1.43 idna-3.10 jinja2-3.1.4 jsonschema-4.23.0 jsonschema-specifications-2024.10.1 markdown-it-py-3.0.0 mdurl-0.1.2 narwhals-1.12.1 numpy-2.0.2 pandas-2.2.3 pillow-10.4.0 protobuf-5.28.3 pyarrow-18.0.0 pydeck-0.9.1 pytz-2024.2 referencing-0.35.1 requests-2.32.3 rich-13.9.3 rpds-py-0.20.0 smmap-5.0.1 streamlit-1.39.0 streamlit-folium-0.23.1 tenacity-9.0.0 toml-0.10.2 tzdata-2024.2 urllib3-2.2.3 xyzservices-2024.9.0\n",
      "\u001b[33mWARNING: You are using pip version 21.2.4; however, version 24.3.1 is available.\n",
      "You should consider upgrading via the '/Library/Developer/CommandLineTools/usr/bin/python3 -m pip install --upgrade pip' command.\u001b[0m\n",
      "Note: you may need to restart the kernel to use updated packages.\n"
     ]
    }
   ],
   "source": [
    "pip install folium streamlit-folium\n"
   ]
  },
  {
   "cell_type": "code",
   "execution_count": null,
   "metadata": {
    "colab": {
     "base_uri": "https://localhost:8080/"
    },
    "executionInfo": {
     "elapsed": 221,
     "status": "ok",
     "timestamp": 1632322048130,
     "user": {
      "displayName": "Bernhard Bermeitinger",
      "photoUrl": "https://lh3.googleusercontent.com/a-/AOh14GivXxt0TLtU4UXyER4_cY1H5s03j1oHP80xcb4=s64",
      "userId": "00323182743818884824"
     },
     "user_tz": -120
    },
    "id": "tWTJDI8F-T4R",
    "outputId": "9b1cd881-c6ae-4fe7-9c78-cd07a6a12ea5"
   },
   "outputs": [
    {
     "name": "stdout",
     "output_type": "stream",
     "text": [
      "Welcome to the Simple Calculator!\n",
      "You can perform operations with numbers between 0 and 9.\n",
      "Invalid input! Please enter a valid number between 0 and 9.\n",
      "Invalid input! Please enter a valid number between 0 and 9.\n",
      "Invalid operation! Please enter one of +, -, *, or /.\n",
      "Invalid operation! Please enter one of +, -, *, or /.\n",
      "Invalid operation! Please enter one of +, -, *, or /.\n"
     ]
    }
   ],
   "source": [
    "def get_number(prompt):\n",
    "    \"\"\"Function to get a valid number from 0 to 9.\"\"\"\n",
    "    while True:\n",
    "        try:\n",
    "            num = int(input(prompt))\n",
    "            if 0 <= num <= 9:  # Only allow numbers between 0 and 9\n",
    "                return num\n",
    "            else:\n",
    "                print(\"Please enter a number between 0 and 9.\")\n",
    "        except ValueError:\n",
    "            print(\"Invalid input! Please enter a valid number between 0 and 9.\")\n",
    "\n",
    "def get_operation():\n",
    "    \"\"\"Function to get a valid operation from the user.\"\"\"\n",
    "    while True:\n",
    "        operation = input(\"Enter an operation (+, -, *, /): \")\n",
    "        if operation in ['+', '-', '*', '/']:\n",
    "            return operation\n",
    "        else:\n",
    "            print(\"Invalid operation! Please enter one of +, -, *, or /.\")\n",
    "\n",
    "def calculate(num1, num2, operation):\n",
    "    \"\"\"Function to perform the calculation based on the operation.\"\"\"\n",
    "    if operation == '+':\n",
    "        return num1 + num2\n",
    "    elif operation == '-':\n",
    "        return num1 - num2\n",
    "    elif operation == '*':\n",
    "        return num1 * num2\n",
    "    elif operation == '/':\n",
    "        if num2 == 0:\n",
    "            return \"Error! Division by zero is not allowed.\"\n",
    "        else:\n",
    "            return num1 / num2\n",
    "\n",
    "def main():\n",
    "    \"\"\"Main function to run the calculator.\"\"\"\n",
    "    print(\"Welcome to the Simple Calculator!\")\n",
    "    print(\"You can perform operations with numbers between 0 and 9.\")\n",
    "\n",
    "    # Get the first number\n",
    "    num1 = get_number(\"Enter the first number (0-9): \")\n",
    "\n",
    "    # Get the operation\n",
    "    operation = get_operation()\n",
    "\n",
    "    # Get the second number\n",
    "    num2 = get_number(\"Enter the second number (0-9): \")\n",
    "\n",
    "    # Perform the calculation\n",
    "    result = calculate(num1, num2, operation)\n",
    "\n",
    "    # Display the result\n",
    "    print(f\"Result: {num1} {operation} {num2} = {result}\")\n",
    "\n",
    "if __name__ == \"__main__\":\n",
    "    main()"
   ]
  },
  {
   "cell_type": "markdown",
   "metadata": {
    "id": "9liLg1iy-hPC"
   },
   "source": [
    "---\n",
    "## Task 2: FizzBuzz\n",
    "\n",
    "Define the function `fizzbuzz` with one required parameter: `limit`.\n",
    "\n",
    "It must return a `list` variable (a variable of type `list`) with `limit` elements (so, if `limit = 10`, the returned list must have exactly `10` entries).\n",
    "You can assume that only *valid* argument values are given (`limit` > 0)\n",
    "\n",
    "The content of the list is as follows:\n",
    "- If the list index is a multiple of `3`, the value at this position must be the string `Fizz`.\n",
    "- If the list index is a multiple of `5`, the value at this position must be the string `Buzz`.\n",
    "- If the list index is a multiple of `3` **and** `5`, the value at this position must be the string `FizzBuzz`.\n",
    "- In all other cases, the value at this position must be the list index itself.\n",
    "\n",
    "Example:\n",
    "```python\n",
    "result = fizzbuzz(6)\n",
    "print(len(result))\n",
    ">>> 6\n",
    "print(result)\n",
    ">>> ['FizzBuzz', 1, 2, 'Fizz', 4, 'Buzz']\n",
    "```\n",
    "\n",
    "_Hint: Be careful with if-elif-else and the order of execution._\n",
    "\n",
    "\n",
    "_Hint: Do **not** give any variable the name 'list'. Doing so will break your kernel/runtime._"
   ]
  },
  {
   "cell_type": "code",
   "execution_count": null,
   "metadata": {
    "executionInfo": {
     "elapsed": 212,
     "status": "ok",
     "timestamp": 1632322199223,
     "user": {
      "displayName": "Bernhard Bermeitinger",
      "photoUrl": "https://lh3.googleusercontent.com/a-/AOh14GivXxt0TLtU4UXyER4_cY1H5s03j1oHP80xcb4=s64",
      "userId": "00323182743818884824"
     },
     "user_tz": -120
    },
    "id": "zUFRQa3z-av6"
   },
   "outputs": [],
   "source": [
    "# Add your code here\n",
    "\n",
    "### BEGIN SOLUTION\n",
    "def fizzbuzz(limit):\n",
    "    result = []\n",
    "    \n",
    "    for i in range(limit):\n",
    "        if (i % 3 == 0) and (i % 5 == 0):\n",
    "            val = 'FizzBuzz'\n",
    "        elif i % 3 == 0:\n",
    "            val = 'Fizz'\n",
    "        elif i % 5 == 0:\n",
    "            val = 'Buzz'\n",
    "        else:\n",
    "            val = i\n",
    "        \n",
    "        result.append(val)\n",
    "    \n",
    "    return result\n",
    "### END SOLUTION"
   ]
  },
  {
   "cell_type": "code",
   "execution_count": null,
   "metadata": {
    "colab": {
     "base_uri": "https://localhost:8080/"
    },
    "executionInfo": {
     "elapsed": 232,
     "status": "ok",
     "timestamp": 1632322249121,
     "user": {
      "displayName": "Bernhard Bermeitinger",
      "photoUrl": "https://lh3.googleusercontent.com/a-/AOh14GivXxt0TLtU4UXyER4_cY1H5s03j1oHP80xcb4=s64",
      "userId": "00323182743818884824"
     },
     "user_tz": -120
    },
    "id": "jormUz77-4kM",
    "outputId": "ae1920e8-ec77-44fc-f4a2-112b86c4de55"
   },
   "outputs": [],
   "source": [
    "# Test Cell. Do not modify\n",
    "from inspect import isfunction, signature\n",
    "from unittest import TestCase\n",
    "test_case = TestCase()\n",
    "\n",
    "# Sanity Check\n",
    "test_case.assertTrue('fizzbuzz' in locals(), msg='You must call the function `fizzbuzz`.')\n",
    "test_case.assertTrue(isfunction(fizzbuzz), msg='You must define the *function* `fizzbuzz`.')\n",
    "\n",
    "# Function parameter check\n",
    "test_case.assertEqual(len(signature(fizzbuzz).parameters), 1, msg=\"Your function must have exactly 3 parameters.\")\n",
    "test_case.assertEqual(['limit'], list(signature(fizzbuzz).parameters), msg='The parameter of the function must have the name `limit`')\n",
    "\n",
    "# Value Check\n",
    "test_case.assertEqual(['FizzBuzz'], fizzbuzz(1), msg='Wrong result.')\n",
    "test_case.assertEqual(['FizzBuzz', 1], fizzbuzz(2), msg='Wrong result.')\n",
    "test_case.assertEqual(['FizzBuzz', 1, 2], fizzbuzz(3), msg='Wrong result.')\n",
    "test_case.assertEqual(['FizzBuzz', 1, 2, 'Fizz'], fizzbuzz(4), msg='Wrong result.')\n",
    "test_case.assertEqual(['FizzBuzz', 1, 2, 'Fizz', 4], fizzbuzz(5), msg='Wrong result.')\n",
    "test_case.assertEqual(['FizzBuzz', 1, 2, 'Fizz', 4, 'Buzz'], fizzbuzz(6), msg='Wrong result.')\n",
    "test_case.assertEqual(['FizzBuzz', 1, 2, 'Fizz', 4, 'Buzz', 'Fizz'], fizzbuzz(7), msg='Wrong result.')\n",
    "test_case.assertEqual(['FizzBuzz', 1, 2, 'Fizz', 4, 'Buzz', 'Fizz', 7], fizzbuzz(8), msg='Wrong result.')\n",
    "\n",
    "# Run your code with the parameter limit=100\n",
    "_result = fizzbuzz(100)\n",
    "test_case.assertEqual(len(_result), 100, msg='The returned list for limit=100 must have exactly 101 elements.')\n",
    "test_case.assertEqual(_result[0], \"FizzBuzz\", msg=\"The value at 0 should be 'FizzBuzz'. 0 (zero) is divisible by both 3 and 5.\")\n",
    "test_case.assertEqual(_result[3], \"Fizz\", msg=\"The value at 3 should be 'Fizz'.\")\n",
    "test_case.assertEqual(_result[4], 4, msg=\"The value at 4 should be 4.\")\n",
    "test_case.assertEqual(_result[5], \"Buzz\", msg=\"The value at 5 should be 'Buzz'.\")\n",
    "test_case.assertEqual(_result[15], \"FizzBuzz\", msg=\"The value at 15 should be 'FizzBuzz'.\")\n",
    "test_case.assertEqual(_result[90], \"FizzBuzz\", msg=\"The value at 90 should be 'FizzBuzz'.\")\n",
    "test_case.assertEqual(_result[93], \"Fizz\", msg=\"The value at 93 should be 'FizzBuzz'.\")\n",
    "test_case.assertEqual(_result[95], \"Buzz\", msg=\"The value at 95 should be 'Buzz'.\")\n",
    "test_case.assertEqual(_result[97], 97, msg=\"The value at 97 should be 97 (integer, not string).\")\n",
    "\n",
    "\n",
    "print(\"\\n\\033[37;42;2m  Success! Your code works as intended.  \\033[0m\\n\")"
   ]
  },
  {
   "cell_type": "markdown",
   "metadata": {
    "id": "Mp3N7WR__Ucm"
   },
   "source": [
    "---\n",
    "## Task 3: Removing duplicate elements.\n",
    "\n",
    "Define the function `unique_elements` that takes exactly one required parameter `elements`. You can assume that the input is always a list with at least 1 entry.\n",
    "It must return a `list` that is sorted (based on the default sorting method) but it must contain only *unique* elements, meaning **no** duplicates from the parameter `elements`.\n",
    "\n",
    "\n",
    "_Hint: Do **not** give any variable the name 'list'. Doing so will break your kernel/runtime._\n",
    "\n",
    "_Hint: Don't overcomplicate the list iterations, **look for built-in functions** that can remove duplicates and sort lists. (The main solution is only 1 line long.)_"
   ]
  },
  {
   "cell_type": "code",
   "execution_count": null,
   "metadata": {
    "executionInfo": {
     "elapsed": 228,
     "status": "ok",
     "timestamp": 1632322524515,
     "user": {
      "displayName": "Bernhard Bermeitinger",
      "photoUrl": "https://lh3.googleusercontent.com/a-/AOh14GivXxt0TLtU4UXyER4_cY1H5s03j1oHP80xcb4=s64",
      "userId": "00323182743818884824"
     },
     "user_tz": -120
    },
    "id": "6MAmX2-MAKCh"
   },
   "outputs": [],
   "source": [
    "# Add your code here\n",
    "\n",
    "### BEGIN SOLUTION\n",
    "def unique_elements(elements):\n",
    "    return sorted(set(elements))\n",
    "### END SOLUTION"
   ]
  },
  {
   "cell_type": "code",
   "execution_count": null,
   "metadata": {
    "colab": {
     "base_uri": "https://localhost:8080/"
    },
    "executionInfo": {
     "elapsed": 231,
     "status": "ok",
     "timestamp": 1632322598601,
     "user": {
      "displayName": "Bernhard Bermeitinger",
      "photoUrl": "https://lh3.googleusercontent.com/a-/AOh14GivXxt0TLtU4UXyER4_cY1H5s03j1oHP80xcb4=s64",
      "userId": "00323182743818884824"
     },
     "user_tz": -120
    },
    "id": "vh6r6MlVARKh",
    "outputId": "9698507c-3f0f-4960-8f83-e5eeae417d35"
   },
   "outputs": [],
   "source": [
    "# Test Cell. Do not modify.\n",
    "from inspect import isfunction, signature, _empty\n",
    "from unittest import TestCase\n",
    "test_case = TestCase()\n",
    "\n",
    "# Sanity check\n",
    "test_case.assertTrue('unique_elements' in locals(), msg=\"You must name the function 'unique_elements'.\")\n",
    "test_case.assertTrue(isfunction(unique_elements), msg=\"You must define 'unique_elements' as a function.\")\n",
    "\n",
    "# Parameter Check\n",
    "test_case.assertEqual(['elements'], list(signature(unique_elements).parameters), msg=\"The function 'unique_elements' must have exactly one parameter called 'elements'.\")\n",
    "test_case.assertEqual(_empty, signature(unique_elements).parameters['elements'].default, msg=\"The parameter 'elements' of the function 'unique_elements' must not have a default value.'\")\n",
    "\n",
    "# Type Check\n",
    "test_case.assertIsInstance(unique_elements(['test']), list, msg=\"The return value must be of type 'list'\")\n",
    "\n",
    "# Functionality Check\n",
    "test_case.assertEqual([1, 2, 3, 4], unique_elements([1, 4, 3, 2]))\n",
    "test_case.assertEqual([1], unique_elements([1, 1, 1, 1, 1, 1]))\n",
    "test_case.assertEqual(['Bizz', 'Buzz', 'Fizz', 'Fuzz'], unique_elements(['Fizz', 'Bizz', 'Fuzz', 'Buzz', 'Fizz']), msg=\"The returned list is not the expected one. Did you sort the list?\")\n",
    "\n",
    "\n",
    "print(\"\\n\\033[37;42;2m  Success! Your code works as intended.  \\033[0m\\n\")"
   ]
  },
  {
   "cell_type": "markdown",
   "metadata": {
    "id": "OGDYrbFwAZQw"
   },
   "source": [
    "---\n",
    "## Task 4: Extracting the last string of a list\n",
    "\n",
    "Define the function `get_last_string` which will take one required parameter with the name `elements`. It must return the endmost string (type `str`) of the given parameter `elements`. You can assume that `elements` will always be a list of at least 1 entry and there will always be at least one string in the list.\n",
    "\n",
    "Example:\n",
    "```python\n",
    "print(get_last_string([1, \"voila\", 3]))\n",
    ">>> voila\n",
    "print(get_last_string([1, 'bla', 'bla', 4, 'new']))\n",
    ">>> new\n",
    "```\n",
    "\n",
    "\n",
    "_Hint: Do **not** call any variable 'list'. Doing so will break your kernel/runtime._\n",
    "\n",
    "_Hint: Do type comparisons with `isinstance()`_\n",
    "\n",
    "_Hint: Don't overcomplicate the list iterations, look for built-in functions that reverse lists._"
   ]
  },
  {
   "cell_type": "code",
   "execution_count": null,
   "metadata": {},
   "outputs": [],
   "source": [
    "# Add your code here\n",
    "\n",
    "### BEGIN SOLUTION\n",
    "def get_last_string(elements):\n",
    "    for value in reversed(elements):\n",
    "        if isinstance(value, str):\n",
    "            return value\n",
    "### END SOLUTION"
   ]
  },
  {
   "cell_type": "code",
   "execution_count": null,
   "metadata": {},
   "outputs": [],
   "source": [
    "# Test Cell. Do not modify.\n",
    "from inspect import isfunction, signature, _empty\n",
    "from unittest import TestCase\n",
    "test_case = TestCase()\n",
    "\n",
    "# Sanity check\n",
    "test_case.assertTrue('get_last_string' in locals(), msg=\"You must name the function 'get_last_string'.\")\n",
    "test_case.assertTrue(isfunction(get_last_string), msg=\"You must define 'get_last_string' as a function.\")\n",
    "\n",
    "# Parameter Check\n",
    "test_case.assertEqual(['elements'], list(signature(get_last_string).parameters), msg=\"The function 'get_last_string' must have exactly one parameter called 'elements'.\")\n",
    "test_case.assertEqual(_empty, signature(get_last_string).parameters['elements'].default, msg=\"The parameter 'elements' of the function 'get_last_string' must not have a default value.'\")\n",
    "\n",
    "# Type Check\n",
    "test_case.assertIsInstance(get_last_string([\"one\"]), str, msg=\"The return value must be of type 'str'.\")\n",
    "\n",
    "# Functionality Check\n",
    "test_case.assertEqual(\"voila\", get_last_string([1, 4, 3, 2, \"voila\"]))\n",
    "test_case.assertEqual(\"voilb\", get_last_string([1, \"voila\", \"voilb\", 1, 1, 1, 1]))\n",
    "test_case.assertEqual(\"Fizz\", get_last_string([4, 'Fizz', 'Bizz', 'Fuzz', 7, 'Buzz', 'Fizz', 7]), msg=\"The returned list is not the expected one. Did you sort the list?\")\n",
    "\n",
    "\n",
    "print(\"\\n\\033[37;42;2m  Success! Your code works as intended.  \\033[0m\\n\")"
   ]
  },
  {
   "cell_type": "markdown",
   "metadata": {},
   "source": [
    "---\n",
    "## Task 5: Tuples\n",
    "\n",
    "Define the function `get_elements` that takes two parameters: the required parameter `elements` which will contain a list of tuples. The second parameter must have the name `index` and because it must be optional set a default value of `0`.\n",
    "\n",
    "The function must return a list that contains those elements out of the tuples of `elements` that are at the given position from the parameter `index`. You can assume that the given tuples always have a valid length.\n",
    "\n",
    "Example:\n",
    "```python\n",
    "print(get_elements([('a', 'b'), ('c', 'd'), ('e', 'f')]))\n",
    ">>> ['a', 'c', 'e']\n",
    "print(get_elements([('a', 'b'), ('c', 'd'), ('e', 'f')], index=0))\n",
    ">>> ['a', 'c', 'e']\n",
    "print(get_elements([('a', 'b'), ('c', 'd'), ('e', 'f')], index=1))\n",
    ">>> ['b', 'd', 'f']\n",
    "```\n",
    "\n",
    "_Hint: Do **not** call any variable 'list' or 'tuple'. Doing so will break your kernel/runtime._"
   ]
  },
  {
   "cell_type": "code",
   "execution_count": null,
   "metadata": {},
   "outputs": [],
   "source": [
    "# Add your code here\n",
    "\n",
    "### BEGIN SOLUTION\n",
    "def get_elements(elements, index=0):\n",
    "    result = []\n",
    "    for tpl in elements:\n",
    "        result.append(tpl[index])\n",
    "    return result\n",
    "### END SOLUTION"
   ]
  },
  {
   "cell_type": "code",
   "execution_count": null,
   "metadata": {},
   "outputs": [],
   "source": [
    "# Test Cell. Do not modify.\n",
    "from inspect import isfunction, signature, _empty\n",
    "from unittest import TestCase\n",
    "test_case = TestCase()\n",
    "\n",
    "# Sanity check\n",
    "test_case.assertTrue('get_elements' in locals(), msg=\"You must name the function 'get_elements'.\")\n",
    "test_case.assertTrue(isfunction(get_elements), msg=\"You must define 'get_elements' as a function.\")\n",
    "\n",
    "# Parameter Check\n",
    "test_case.assertEqual(['elements', 'index'], list(signature(get_elements).parameters), msg=\"The function 'get_elements' must have exactly two parameters.\")\n",
    "test_case.assertEqual(_empty, signature(get_elements).parameters['elements'].default, msg=\"The parameter 'elements' of the function 'get_elements' must not have a default value.\")\n",
    "test_case.assertEqual(0, signature(get_elements).parameters['index'].default, msg=\"The parameter 'index' of the function 'get_elements' must have the default value 0.\")\n",
    "\n",
    "# Functionality Check\n",
    "test_case.assertEqual(\n",
    "    ['a', 'c', 'e'],\n",
    "    get_elements([('a', 'b'), ('c', 'd'), ('e', 'f')])\n",
    ")\n",
    "test_case.assertEqual(\n",
    "    ['a', 'c', 'e'],\n",
    "    get_elements([('a', 'b'), ('c', 'd'), ('e', 'f')], index=0)\n",
    ")\n",
    "test_case.assertEqual(\n",
    "    ['b', 'd', 'f'],\n",
    "    get_elements([('a', 'b'), ('c', 'd'), ('e', 'f')], index=1)\n",
    ")\n",
    "test_case.assertEqual(\n",
    "    [8, '42', '3b'],\n",
    "    get_elements([(1, 4, 8), ('c', 'd', '42', 21), (4, '23', '3b')], index=2)\n",
    ")\n",
    "\n",
    "\n",
    "print(\"\\n\\033[37;42;2m  Success! Your code works as intended.  \\033[0m\\n\")"
   ]
  }
 ],
 "metadata": {
  "colab": {
   "collapsed_sections": [],
   "name": "Assignment_02_Solution.ipynb",
   "provenance": []
  },
  "copyright": {
   "author": "Bernhard Bermeitinger",
   "email": "bernhard.bermeitinger@unisg.ch"
  },
  "kernelspec": {
   "display_name": "Python 3",
   "language": "python",
   "name": "python3"
  },
  "language_info": {
   "codemirror_mode": {
    "name": "ipython",
    "version": 3
   },
   "file_extension": ".py",
   "mimetype": "text/x-python",
   "name": "python",
   "nbconvert_exporter": "python",
   "pygments_lexer": "ipython3",
   "version": "3.9.6"
  },
  "toc-autonumbering": false,
  "toc-showcode": false
 },
 "nbformat": 4,
 "nbformat_minor": 4
}
